{
  "nbformat": 4,
  "nbformat_minor": 0,
  "metadata": {
    "colab": {
      "provenance": []
    },
    "kernelspec": {
      "name": "python3",
      "display_name": "Python 3"
    },
    "language_info": {
      "name": "python"
    }
  },
  "cells": [
    {
      "cell_type": "code",
      "source": [
        "!pip install tensorflow"
      ],
      "metadata": {
        "colab": {
          "base_uri": "https://localhost:8080/"
        },
        "id": "3yBiOYP0ocsJ",
        "outputId": "6307d552-717c-444a-ac08-153239833f0e"
      },
      "execution_count": null,
      "outputs": [
        {
          "output_type": "stream",
          "name": "stdout",
          "text": [
            "Requirement already satisfied: tensorflow in /usr/local/lib/python3.10/dist-packages (2.15.0)\n",
            "Requirement already satisfied: absl-py>=1.0.0 in /usr/local/lib/python3.10/dist-packages (from tensorflow) (1.4.0)\n",
            "Requirement already satisfied: astunparse>=1.6.0 in /usr/local/lib/python3.10/dist-packages (from tensorflow) (1.6.3)\n",
            "Requirement already satisfied: flatbuffers>=23.5.26 in /usr/local/lib/python3.10/dist-packages (from tensorflow) (24.3.25)\n",
            "Requirement already satisfied: gast!=0.5.0,!=0.5.1,!=0.5.2,>=0.2.1 in /usr/local/lib/python3.10/dist-packages (from tensorflow) (0.5.4)\n",
            "Requirement already satisfied: google-pasta>=0.1.1 in /usr/local/lib/python3.10/dist-packages (from tensorflow) (0.2.0)\n",
            "Requirement already satisfied: h5py>=2.9.0 in /usr/local/lib/python3.10/dist-packages (from tensorflow) (3.9.0)\n",
            "Requirement already satisfied: libclang>=13.0.0 in /usr/local/lib/python3.10/dist-packages (from tensorflow) (18.1.1)\n",
            "Requirement already satisfied: ml-dtypes~=0.2.0 in /usr/local/lib/python3.10/dist-packages (from tensorflow) (0.2.0)\n",
            "Requirement already satisfied: numpy<2.0.0,>=1.23.5 in /usr/local/lib/python3.10/dist-packages (from tensorflow) (1.25.2)\n",
            "Requirement already satisfied: opt-einsum>=2.3.2 in /usr/local/lib/python3.10/dist-packages (from tensorflow) (3.3.0)\n",
            "Requirement already satisfied: packaging in /usr/local/lib/python3.10/dist-packages (from tensorflow) (24.0)\n",
            "Requirement already satisfied: protobuf!=4.21.0,!=4.21.1,!=4.21.2,!=4.21.3,!=4.21.4,!=4.21.5,<5.0.0dev,>=3.20.3 in /usr/local/lib/python3.10/dist-packages (from tensorflow) (3.20.3)\n",
            "Requirement already satisfied: setuptools in /usr/local/lib/python3.10/dist-packages (from tensorflow) (67.7.2)\n",
            "Requirement already satisfied: six>=1.12.0 in /usr/local/lib/python3.10/dist-packages (from tensorflow) (1.16.0)\n",
            "Requirement already satisfied: termcolor>=1.1.0 in /usr/local/lib/python3.10/dist-packages (from tensorflow) (2.4.0)\n",
            "Requirement already satisfied: typing-extensions>=3.6.6 in /usr/local/lib/python3.10/dist-packages (from tensorflow) (4.11.0)\n",
            "Requirement already satisfied: wrapt<1.15,>=1.11.0 in /usr/local/lib/python3.10/dist-packages (from tensorflow) (1.14.1)\n",
            "Requirement already satisfied: tensorflow-io-gcs-filesystem>=0.23.1 in /usr/local/lib/python3.10/dist-packages (from tensorflow) (0.37.0)\n",
            "Requirement already satisfied: grpcio<2.0,>=1.24.3 in /usr/local/lib/python3.10/dist-packages (from tensorflow) (1.63.0)\n",
            "Requirement already satisfied: tensorboard<2.16,>=2.15 in /usr/local/lib/python3.10/dist-packages (from tensorflow) (2.15.2)\n",
            "Requirement already satisfied: tensorflow-estimator<2.16,>=2.15.0 in /usr/local/lib/python3.10/dist-packages (from tensorflow) (2.15.0)\n",
            "Requirement already satisfied: keras<2.16,>=2.15.0 in /usr/local/lib/python3.10/dist-packages (from tensorflow) (2.15.0)\n",
            "Requirement already satisfied: wheel<1.0,>=0.23.0 in /usr/local/lib/python3.10/dist-packages (from astunparse>=1.6.0->tensorflow) (0.43.0)\n",
            "Requirement already satisfied: google-auth<3,>=1.6.3 in /usr/local/lib/python3.10/dist-packages (from tensorboard<2.16,>=2.15->tensorflow) (2.27.0)\n",
            "Requirement already satisfied: google-auth-oauthlib<2,>=0.5 in /usr/local/lib/python3.10/dist-packages (from tensorboard<2.16,>=2.15->tensorflow) (1.2.0)\n",
            "Requirement already satisfied: markdown>=2.6.8 in /usr/local/lib/python3.10/dist-packages (from tensorboard<2.16,>=2.15->tensorflow) (3.6)\n",
            "Requirement already satisfied: requests<3,>=2.21.0 in /usr/local/lib/python3.10/dist-packages (from tensorboard<2.16,>=2.15->tensorflow) (2.31.0)\n",
            "Requirement already satisfied: tensorboard-data-server<0.8.0,>=0.7.0 in /usr/local/lib/python3.10/dist-packages (from tensorboard<2.16,>=2.15->tensorflow) (0.7.2)\n",
            "Requirement already satisfied: werkzeug>=1.0.1 in /usr/local/lib/python3.10/dist-packages (from tensorboard<2.16,>=2.15->tensorflow) (3.0.2)\n",
            "Requirement already satisfied: cachetools<6.0,>=2.0.0 in /usr/local/lib/python3.10/dist-packages (from google-auth<3,>=1.6.3->tensorboard<2.16,>=2.15->tensorflow) (5.3.3)\n",
            "Requirement already satisfied: pyasn1-modules>=0.2.1 in /usr/local/lib/python3.10/dist-packages (from google-auth<3,>=1.6.3->tensorboard<2.16,>=2.15->tensorflow) (0.4.0)\n",
            "Requirement already satisfied: rsa<5,>=3.1.4 in /usr/local/lib/python3.10/dist-packages (from google-auth<3,>=1.6.3->tensorboard<2.16,>=2.15->tensorflow) (4.9)\n",
            "Requirement already satisfied: requests-oauthlib>=0.7.0 in /usr/local/lib/python3.10/dist-packages (from google-auth-oauthlib<2,>=0.5->tensorboard<2.16,>=2.15->tensorflow) (1.3.1)\n",
            "Requirement already satisfied: charset-normalizer<4,>=2 in /usr/local/lib/python3.10/dist-packages (from requests<3,>=2.21.0->tensorboard<2.16,>=2.15->tensorflow) (3.3.2)\n",
            "Requirement already satisfied: idna<4,>=2.5 in /usr/local/lib/python3.10/dist-packages (from requests<3,>=2.21.0->tensorboard<2.16,>=2.15->tensorflow) (3.7)\n",
            "Requirement already satisfied: urllib3<3,>=1.21.1 in /usr/local/lib/python3.10/dist-packages (from requests<3,>=2.21.0->tensorboard<2.16,>=2.15->tensorflow) (2.0.7)\n",
            "Requirement already satisfied: certifi>=2017.4.17 in /usr/local/lib/python3.10/dist-packages (from requests<3,>=2.21.0->tensorboard<2.16,>=2.15->tensorflow) (2024.2.2)\n",
            "Requirement already satisfied: MarkupSafe>=2.1.1 in /usr/local/lib/python3.10/dist-packages (from werkzeug>=1.0.1->tensorboard<2.16,>=2.15->tensorflow) (2.1.5)\n",
            "Requirement already satisfied: pyasn1<0.7.0,>=0.4.6 in /usr/local/lib/python3.10/dist-packages (from pyasn1-modules>=0.2.1->google-auth<3,>=1.6.3->tensorboard<2.16,>=2.15->tensorflow) (0.6.0)\n",
            "Requirement already satisfied: oauthlib>=3.0.0 in /usr/local/lib/python3.10/dist-packages (from requests-oauthlib>=0.7.0->google-auth-oauthlib<2,>=0.5->tensorboard<2.16,>=2.15->tensorflow) (3.2.2)\n"
          ]
        }
      ]
    },
    {
      "cell_type": "code",
      "execution_count": null,
      "metadata": {
        "id": "ZMQtqTeooChM"
      },
      "outputs": [],
      "source": [
        "import pandas as pd\n",
        "import numpy as np\n",
        "from sklearn.decomposition import PCA\n",
        "from sklearn.model_selection import train_test_split\n",
        "from sklearn.metrics import accuracy_score\n",
        "from tensorflow.keras.models import Sequential\n",
        "from tensorflow.keras.layers import Dense, Dropout\n",
        "import matplotlib.pyplot as plt"
      ]
    },
    {
      "cell_type": "code",
      "source": [
        "!wget https://github.com/noorkhokhar99/Digit-Recognition/archive/refs/heads/master.zip -O digit-recognizer"
      ],
      "metadata": {
        "colab": {
          "base_uri": "https://localhost:8080/"
        },
        "id": "5rmOyyjuwnPi",
        "outputId": "f460394c-9dc6-4062-b37b-a3ea376af2f0"
      },
      "execution_count": null,
      "outputs": [
        {
          "output_type": "stream",
          "name": "stdout",
          "text": [
            "--2024-05-09 14:50:41--  https://github.com/noorkhokhar99/Digit-Recognition/archive/refs/heads/master.zip\n",
            "Resolving github.com (github.com)... 140.82.112.3\n",
            "Connecting to github.com (github.com)|140.82.112.3|:443... connected.\n",
            "HTTP request sent, awaiting response... 302 Found\n",
            "Location: https://codeload.github.com/noorkhokhar99/Digit-Recognition/zip/refs/heads/master [following]\n",
            "--2024-05-09 14:50:41--  https://codeload.github.com/noorkhokhar99/Digit-Recognition/zip/refs/heads/master\n",
            "Resolving codeload.github.com (codeload.github.com)... 140.82.112.10\n",
            "Connecting to codeload.github.com (codeload.github.com)|140.82.112.10|:443... connected.\n",
            "HTTP request sent, awaiting response... 200 OK\n",
            "Length: unspecified [application/zip]\n",
            "Saving to: ‘digit-recognizer’\n",
            "\n",
            "digit-recognizer        [ <=>                ]  22.34M  --.-KB/s    in 0.1s    \n",
            "\n",
            "2024-05-09 14:50:42 (207 MB/s) - ‘digit-recognizer’ saved [23422257]\n",
            "\n"
          ]
        }
      ]
    },
    {
      "cell_type": "code",
      "source": [
        "!unzip /content/digit-recognizer.zip"
      ],
      "metadata": {
        "colab": {
          "base_uri": "https://localhost:8080/"
        },
        "id": "EjMcVOMc1hUh",
        "outputId": "bf5118e4-b63b-459e-bc54-19f7ec7cfe19"
      },
      "execution_count": null,
      "outputs": [
        {
          "output_type": "stream",
          "name": "stdout",
          "text": [
            "Archive:  /content/digit-recognizer.zip\n",
            "  inflating: sample_submission.csv   \n",
            "  inflating: test.csv                \n",
            "  inflating: train.csv               \n"
          ]
        }
      ]
    },
    {
      "cell_type": "code",
      "source": [
        "train_data = pd.read_csv('train.csv')\n",
        "test_data = pd.read_csv('test.csv')"
      ],
      "metadata": {
        "id": "OWTX-vpx21JR"
      },
      "execution_count": null,
      "outputs": []
    },
    {
      "cell_type": "code",
      "source": [
        "X = train_data.drop(columns=['label']).values.astype('float32') / 255.0\n",
        "X_test = test_data.values.astype('float32') / 255.0\n",
        "y = train_data['label'].values.astype('int')"
      ],
      "metadata": {
        "id": "cf4fPnCBoJN5"
      },
      "execution_count": null,
      "outputs": []
    },
    {
      "cell_type": "code",
      "source": [
        "X_train, X_test, y_train, y_test = train_test_split(X, y, test_size=0.2, random_state=42)"
      ],
      "metadata": {
        "id": "UtEOEt_hoJLn"
      },
      "execution_count": null,
      "outputs": []
    },
    {
      "cell_type": "code",
      "source": [
        "pca = PCA(n_components=100, random_state=42)  # Уменьшаем размерность до 100 компонент\n",
        "X_train_pca = pca.fit_transform(X_train)\n",
        "X_test_pca = pca.transform(X_test)"
      ],
      "metadata": {
        "id": "h9sa-ChLoJI1"
      },
      "execution_count": null,
      "outputs": []
    },
    {
      "cell_type": "code",
      "source": [
        "model = Sequential([\n",
        "    Dense(512, activation='relu', input_shape=(100,)),\n",
        "    Dropout(0.5),\n",
        "    Dense(256, activation='relu'),\n",
        "    Dropout(0.5),\n",
        "    Dense(128, activation='relu'),\n",
        "    Dropout(0.5),\n",
        "    Dense(10, activation='softmax')\n",
        "])"
      ],
      "metadata": {
        "id": "kVAp_nWpoI-W"
      },
      "execution_count": null,
      "outputs": []
    },
    {
      "cell_type": "code",
      "source": [
        "model.compile(optimizer='adam', loss='sparse_categorical_crossentropy', metrics=['accuracy'])"
      ],
      "metadata": {
        "id": "2eSMRfvCq5yn"
      },
      "execution_count": null,
      "outputs": []
    },
    {
      "cell_type": "code",
      "source": [
        "model.fit(X_train_pca, y_train, epochs=20, batch_size=128, validation_split=0.1)"
      ],
      "metadata": {
        "colab": {
          "base_uri": "https://localhost:8080/"
        },
        "id": "PC_P6jOdrlI4",
        "outputId": "da1038fa-1cb0-4f06-e0ad-d14a8cdb2e12"
      },
      "execution_count": null,
      "outputs": [
        {
          "output_type": "stream",
          "name": "stdout",
          "text": [
            "Epoch 1/20\n",
            "237/237 [==============================] - 6s 19ms/step - loss: 0.8134 - accuracy: 0.7347 - val_loss: 0.2216 - val_accuracy: 0.9351\n",
            "Epoch 2/20\n",
            "237/237 [==============================] - 3s 13ms/step - loss: 0.3423 - accuracy: 0.8975 - val_loss: 0.1669 - val_accuracy: 0.9503\n",
            "Epoch 3/20\n",
            "237/237 [==============================] - 3s 11ms/step - loss: 0.2585 - accuracy: 0.9234 - val_loss: 0.1315 - val_accuracy: 0.9598\n",
            "Epoch 4/20\n",
            "237/237 [==============================] - 2s 10ms/step - loss: 0.2143 - accuracy: 0.9386 - val_loss: 0.1141 - val_accuracy: 0.9676\n",
            "Epoch 5/20\n",
            "237/237 [==============================] - 2s 10ms/step - loss: 0.1854 - accuracy: 0.9459 - val_loss: 0.1006 - val_accuracy: 0.9690\n",
            "Epoch 6/20\n",
            "237/237 [==============================] - 4s 16ms/step - loss: 0.1645 - accuracy: 0.9527 - val_loss: 0.0962 - val_accuracy: 0.9714\n",
            "Epoch 7/20\n",
            "237/237 [==============================] - 3s 13ms/step - loss: 0.1464 - accuracy: 0.9579 - val_loss: 0.0912 - val_accuracy: 0.9744\n",
            "Epoch 8/20\n",
            "237/237 [==============================] - 2s 10ms/step - loss: 0.1335 - accuracy: 0.9612 - val_loss: 0.0858 - val_accuracy: 0.9726\n",
            "Epoch 9/20\n",
            "237/237 [==============================] - 2s 10ms/step - loss: 0.1231 - accuracy: 0.9635 - val_loss: 0.0871 - val_accuracy: 0.9735\n",
            "Epoch 10/20\n",
            "237/237 [==============================] - 3s 11ms/step - loss: 0.1149 - accuracy: 0.9663 - val_loss: 0.0873 - val_accuracy: 0.9732\n",
            "Epoch 11/20\n",
            "237/237 [==============================] - 4s 16ms/step - loss: 0.1068 - accuracy: 0.9680 - val_loss: 0.0789 - val_accuracy: 0.9765\n",
            "Epoch 12/20\n",
            "237/237 [==============================] - 3s 14ms/step - loss: 0.1021 - accuracy: 0.9701 - val_loss: 0.0756 - val_accuracy: 0.9789\n",
            "Epoch 13/20\n",
            "237/237 [==============================] - 3s 11ms/step - loss: 0.0962 - accuracy: 0.9720 - val_loss: 0.0791 - val_accuracy: 0.9789\n",
            "Epoch 14/20\n",
            "237/237 [==============================] - 3s 11ms/step - loss: 0.0913 - accuracy: 0.9729 - val_loss: 0.0752 - val_accuracy: 0.9792\n",
            "Epoch 15/20\n",
            "237/237 [==============================] - 3s 12ms/step - loss: 0.0882 - accuracy: 0.9741 - val_loss: 0.0758 - val_accuracy: 0.9789\n",
            "Epoch 16/20\n",
            "237/237 [==============================] - 4s 16ms/step - loss: 0.0835 - accuracy: 0.9750 - val_loss: 0.0728 - val_accuracy: 0.9789\n",
            "Epoch 17/20\n",
            "237/237 [==============================] - 3s 13ms/step - loss: 0.0752 - accuracy: 0.9776 - val_loss: 0.0842 - val_accuracy: 0.9780\n",
            "Epoch 18/20\n",
            "237/237 [==============================] - 3s 11ms/step - loss: 0.0730 - accuracy: 0.9786 - val_loss: 0.0789 - val_accuracy: 0.9783\n",
            "Epoch 19/20\n",
            "237/237 [==============================] - 2s 10ms/step - loss: 0.0697 - accuracy: 0.9787 - val_loss: 0.0761 - val_accuracy: 0.9774\n",
            "Epoch 20/20\n",
            "237/237 [==============================] - 3s 11ms/step - loss: 0.0742 - accuracy: 0.9772 - val_loss: 0.0767 - val_accuracy: 0.9789\n"
          ]
        },
        {
          "output_type": "execute_result",
          "data": {
            "text/plain": [
              "<keras.src.callbacks.History at 0x7b5c35b99540>"
            ]
          },
          "metadata": {},
          "execution_count": 63
        }
      ]
    },
    {
      "cell_type": "code",
      "source": [
        "loss, accuracy = model.evaluate(X_test_pca, y_test)\n",
        "print(\"Accuracy on test set:\", accuracy)"
      ],
      "metadata": {
        "colab": {
          "base_uri": "https://localhost:8080/"
        },
        "id": "fKPcOHdnsmcd",
        "outputId": "a9bc6363-80f5-4e6a-d20d-876510ef358a"
      },
      "execution_count": null,
      "outputs": [
        {
          "output_type": "stream",
          "name": "stdout",
          "text": [
            "263/263 [==============================] - 3s 11ms/step - loss: 0.0825 - accuracy: 0.9769\n",
            "Accuracy on test set: 0.9769047498703003\n"
          ]
        }
      ]
    },
    {
      "cell_type": "code",
      "source": [
        "submission_df = pd.read_csv('sample_submission.csv')"
      ],
      "metadata": {
        "id": "CA7liWLv-aDf"
      },
      "execution_count": null,
      "outputs": []
    },
    {
      "cell_type": "code",
      "source": [
        "X_test_data_pca = pca.transform(X_test)"
      ],
      "metadata": {
        "id": "m1Lh1yIh96-Z"
      },
      "execution_count": null,
      "outputs": []
    },
    {
      "cell_type": "code",
      "source": [
        "predicted_probabilities = model.predict(X_test_data_pca)\n",
        "\n",
        "predicted_labels = predicted_probabilities.argmax(axis=1)"
      ],
      "metadata": {
        "colab": {
          "base_uri": "https://localhost:8080/"
        },
        "id": "odio92hN-Ztb",
        "outputId": "04411e3c-deab-4068-f316-16d1f36d0c5f"
      },
      "execution_count": null,
      "outputs": [
        {
          "output_type": "stream",
          "name": "stdout",
          "text": [
            "875/875 [==============================] - 4s 4ms/step\n"
          ]
        }
      ]
    },
    {
      "cell_type": "code",
      "source": [
        "submission_df = pd.DataFrame({'ImageId': range(1, len(predicted_labels) + 1),\n",
        "                              'Label': predicted_labels})"
      ],
      "metadata": {
        "id": "0NFrgSOS8yjR"
      },
      "execution_count": null,
      "outputs": []
    },
    {
      "cell_type": "code",
      "source": [
        "submission_df.to_csv('sample_submission_otput.csv', index=False)"
      ],
      "metadata": {
        "id": "knf8VVg2-Ype"
      },
      "execution_count": null,
      "outputs": []
    },
    {
      "cell_type": "code",
      "source": [
        "index = 7\n",
        "\n",
        "image = test_data.iloc[index-1].values.reshape(28, 28)\n",
        "\n",
        "plt.imshow(image, cmap='gray')\n",
        "plt.axis('off')\n",
        "plt.show()"
      ],
      "metadata": {
        "colab": {
          "base_uri": "https://localhost:8080/",
          "height": 406
        },
        "id": "enwWFkei_LO6",
        "outputId": "626228b2-a76f-43c9-e997-a07e36e2600f"
      },
      "execution_count": null,
      "outputs": [
        {
          "output_type": "display_data",
          "data": {
            "text/plain": [
              "<Figure size 640x480 with 1 Axes>"
            ],
            "image/png": "[encoded data removed]"
          },
          "metadata": {}
        }
      ]
    },
    {
      "cell_type": "code",
      "source": [
        "# Your submission scored 0.97667"
      ],
      "metadata": {
        "id": "BI6TPrNnBfHd"
      },
      "execution_count": null,
      "outputs": []
    }
  ]
}